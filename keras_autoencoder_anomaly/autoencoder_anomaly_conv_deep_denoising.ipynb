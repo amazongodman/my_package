{
 "cells": [
  {
   "cell_type": "markdown",
   "metadata": {},
   "source": [
    "# FC autoencoder"
   ]
  },
  {
   "cell_type": "markdown",
   "metadata": {},
   "source": [
    "### data load"
   ]
  },
  {
   "cell_type": "code",
   "execution_count": 226,
   "metadata": {},
   "outputs": [],
   "source": [
    "from keras.datasets import mnist\n",
    "import numpy as np\n",
    "(x_train, _), (x_test, _) = mnist.load_data()"
   ]
  },
  {
   "cell_type": "code",
   "execution_count": 227,
   "metadata": {},
   "outputs": [],
   "source": [
    "x_train = x_train.astype('float32') / 255.\n",
    "x_test = x_test.astype('float32') / 255."
   ]
  },
  {
   "cell_type": "code",
   "execution_count": 228,
   "metadata": {},
   "outputs": [],
   "source": [
    "x_train = x_train.reshape((len(x_train), np.prod(x_train.shape[1:])))\n",
    "x_test = x_test.reshape((len(x_test), np.prod(x_test.shape[1:])))"
   ]
  },
  {
   "cell_type": "markdown",
   "metadata": {},
   "source": [
    "### build autoencoder"
   ]
  },
  {
   "cell_type": "code",
   "execution_count": 36,
   "metadata": {},
   "outputs": [],
   "source": [
    "from keras.layers import Input, Dense\n",
    "from keras.models import Model, Sequential\n",
    "from keras.callbacks import EarlyStopping\n",
    "\n",
    "import matplotlib.pyplot as plt\n",
    "\n",
    "input_shape = 784\n",
    "encoding_dim = 32"
   ]
  },
  {
   "cell_type": "code",
   "execution_count": 17,
   "metadata": {},
   "outputs": [],
   "source": [
    "input_img = Input(shape=(784,))\n",
    "encoded = Dense(encoding_dim, activation='relu')(input_img)\n",
    "\n",
    "\n",
    "from keras import regularizers\n",
    "encoded = Dense(encoding_dim, activation='relu',activity_regularizer=regularizers.l1(10e-5))(input_img)\n",
    "\n",
    "decoded = Dense(784, activation='sigmoid')(encoded)\n",
    "\n",
    "autoencoder = Model(input_img, decoded)"
   ]
  },
  {
   "cell_type": "markdown",
   "metadata": {},
   "source": [
    "# regularize : more reduce encoding_dim\n",
    "\n",
    "from keras import regularizers  \n",
    "encoded = Dense(encoding_dim, activation='relu',activity_regularizer=regularizers.l1(10e-5))(input_img)  \n"
   ]
  },
  {
   "cell_type": "markdown",
   "metadata": {},
   "source": [
    "# more deep\n",
    "\n",
    "input_img = Input(shape=(784,))  \n",
    "encoded = Dense(128, activation='relu')(input_img)  \n",
    "encoded = Dense(64, activation='relu')(encoded)  \n",
    "encoded = Dense(32, activation='relu')(encoded)  \n",
    "  \n",
    "decoded = Dense(64, activation='relu')(encoded)  \n",
    "decoded = Dense(128, activation='relu')(decoded)  \n",
    "decoded = Dense(784, activation='sigmoid')(decoded)  "
   ]
  },
  {
   "cell_type": "code",
   "execution_count": 18,
   "metadata": {},
   "outputs": [],
   "source": [
    "autoencoder.compile(optimizer='adam', loss='binary_crossentropy')"
   ]
  },
  {
   "cell_type": "code",
   "execution_count": 19,
   "metadata": {},
   "outputs": [
    {
     "name": "stdout",
     "output_type": "stream",
     "text": [
      "_________________________________________________________________\n",
      "Layer (type)                 Output Shape              Param #   \n",
      "=================================================================\n",
      "input_3 (InputLayer)         (None, 784)               0         \n",
      "_________________________________________________________________\n",
      "dense_5 (Dense)              (None, 32)                25120     \n",
      "_________________________________________________________________\n",
      "dense_6 (Dense)              (None, 784)               25872     \n",
      "=================================================================\n",
      "Total params: 50,992\n",
      "Trainable params: 50,992\n",
      "Non-trainable params: 0\n",
      "_________________________________________________________________\n"
     ]
    }
   ],
   "source": [
    "autoencoder.summary()"
   ]
  },
  {
   "cell_type": "code",
   "execution_count": 253,
   "metadata": {},
   "outputs": [],
   "source": [
    "es_cb = EarlyStopping(monitor='val_loss', min_delta=0.01, patience=5, verbose=1, mode='auto')"
   ]
  },
  {
   "cell_type": "code",
   "execution_count": 20,
   "metadata": {},
   "outputs": [
    {
     "name": "stdout",
     "output_type": "stream",
     "text": [
      "Train on 60000 samples, validate on 10000 samples\n",
      "Epoch 1/100\n",
      "60000/60000 [==============================] - 2s 40us/step - loss: 0.2748 - val_loss: 0.1879\n",
      "Epoch 2/100\n",
      "60000/60000 [==============================] - 2s 35us/step - loss: 0.1704 - val_loss: 0.1533\n",
      "Epoch 3/100\n",
      "60000/60000 [==============================] - 2s 34us/step - loss: 0.1440 - val_loss: 0.1333\n",
      "Epoch 4/100\n",
      "60000/60000 [==============================] - 2s 36us/step - loss: 0.1281 - val_loss: 0.1209\n",
      "Epoch 5/100\n",
      "60000/60000 [==============================] - 2s 34us/step - loss: 0.1181 - val_loss: 0.1130\n",
      "Epoch 6/100\n",
      "60000/60000 [==============================] - 2s 34us/step - loss: 0.1114 - val_loss: 0.1073\n",
      "Epoch 7/100\n",
      "60000/60000 [==============================] - 2s 35us/step - loss: 0.1065 - val_loss: 0.1033\n",
      "Epoch 8/100\n",
      "60000/60000 [==============================] - 2s 35us/step - loss: 0.1029 - val_loss: 0.1000\n",
      "Epoch 9/100\n",
      "60000/60000 [==============================] - 2s 34us/step - loss: 0.1001 - val_loss: 0.0976\n",
      "Epoch 10/100\n",
      "60000/60000 [==============================] - 2s 34us/step - loss: 0.0980 - val_loss: 0.0959\n",
      "Epoch 11/100\n",
      "60000/60000 [==============================] - 2s 34us/step - loss: 0.0965 - val_loss: 0.0946\n",
      "Epoch 12/100\n",
      "60000/60000 [==============================] - 2s 34us/step - loss: 0.0956 - val_loss: 0.0939\n",
      "Epoch 13/100\n",
      "60000/60000 [==============================] - 2s 34us/step - loss: 0.0950 - val_loss: 0.0934\n",
      "Epoch 14/100\n",
      "60000/60000 [==============================] - 2s 34us/step - loss: 0.0945 - val_loss: 0.0931\n",
      "Epoch 15/100\n",
      "60000/60000 [==============================] - 2s 35us/step - loss: 0.0942 - val_loss: 0.0929\n",
      "Epoch 16/100\n",
      "60000/60000 [==============================] - 2s 36us/step - loss: 0.0940 - val_loss: 0.0927\n",
      "Epoch 17/100\n",
      "60000/60000 [==============================] - 2s 35us/step - loss: 0.0938 - val_loss: 0.0925\n",
      "Epoch 18/100\n",
      "60000/60000 [==============================] - 2s 35us/step - loss: 0.0937 - val_loss: 0.0924\n",
      "Epoch 19/100\n",
      "60000/60000 [==============================] - 2s 35us/step - loss: 0.0936 - val_loss: 0.0923\n",
      "Epoch 20/100\n",
      "60000/60000 [==============================] - 2s 35us/step - loss: 0.0935 - val_loss: 0.0922\n",
      "Epoch 21/100\n",
      "60000/60000 [==============================] - 2s 35us/step - loss: 0.0934 - val_loss: 0.0922\n",
      "Epoch 22/100\n",
      "60000/60000 [==============================] - 2s 36us/step - loss: 0.0933 - val_loss: 0.0922\n",
      "Epoch 23/100\n",
      "60000/60000 [==============================] - 2s 36us/step - loss: 0.0933 - val_loss: 0.0920\n",
      "Epoch 24/100\n",
      "60000/60000 [==============================] - 2s 36us/step - loss: 0.0932 - val_loss: 0.0919\n",
      "Epoch 25/100\n",
      "60000/60000 [==============================] - 2s 37us/step - loss: 0.0932 - val_loss: 0.0921\n",
      "Epoch 00025: early stopping\n"
     ]
    },
    {
     "data": {
      "text/plain": [
       "<keras.callbacks.History at 0x250a945a188>"
      ]
     },
     "execution_count": 20,
     "metadata": {},
     "output_type": "execute_result"
    }
   ],
   "source": [
    "\n",
    "autoencoder.fit(x_train, x_train,epochs=100, batch_size=256,shuffle=True,\n",
    "                validation_data=(x_test, x_test), callbacks=[es_cb])"
   ]
  },
  {
   "cell_type": "code",
   "execution_count": 21,
   "metadata": {},
   "outputs": [],
   "source": [
    "autoencoder.save_weights('autoencoder.h5')"
   ]
  },
  {
   "cell_type": "markdown",
   "metadata": {},
   "source": [
    "### another notation (add)"
   ]
  },
  {
   "cell_type": "code",
   "execution_count": 25,
   "metadata": {},
   "outputs": [],
   "source": [
    "def make_FCae(encoding_dim,input_shape):\n",
    "    model = Sequential()\n",
    "    model.add(Dense(encoding_dim, activation='relu',input_shape=(input_shape,)))\n",
    "    model.add(Dense(input_shape,activation='sigmoid'))\n",
    "    return model"
   ]
  },
  {
   "cell_type": "code",
   "execution_count": null,
   "metadata": {},
   "outputs": [],
   "source": [
    "ae = make_FCae(encoding_dim,input_shape)\n",
    "ae.compile(optimizer='adam', loss='binary_crossentropy')"
   ]
  },
  {
   "cell_type": "code",
   "execution_count": null,
   "metadata": {},
   "outputs": [],
   "source": [
    "ae.summary()"
   ]
  },
  {
   "cell_type": "code",
   "execution_count": null,
   "metadata": {},
   "outputs": [],
   "source": [
    "ae.fit(x_train, x_train,epochs=5,batch_size=256,shuffle=True,\n",
    "       validation_data=(x_test, x_test))"
   ]
  },
  {
   "cell_type": "code",
   "execution_count": null,
   "metadata": {},
   "outputs": [],
   "source": [
    "ae.save_weights('autoencoder.h5')"
   ]
  },
  {
   "cell_type": "markdown",
   "metadata": {},
   "source": [
    "# test image encode to latent value"
   ]
  },
  {
   "cell_type": "code",
   "execution_count": 29,
   "metadata": {},
   "outputs": [],
   "source": [
    "def make_encoder():\n",
    "    encoder= make_FCae(encoding_dim, input_shape)\n",
    "    encoder.compile(optimizer='adadelta', loss='binary_crossentropy')\n",
    "    encoder.load_weights('autoencoder.h5')\n",
    "    \n",
    "    encoder_model = Model(inputs=encoder.layers[0].input, outputs=encoder.layers[0].output)\n",
    "    \n",
    "    encoder_model.trainable = False\n",
    "    \n",
    "    encoder_model.compile(loss='binary_crossentropy', optimizer='adam')\n",
    "    return encoder_model"
   ]
  },
  {
   "cell_type": "code",
   "execution_count": 30,
   "metadata": {},
   "outputs": [],
   "source": [
    "encoder_model = make_encoder()"
   ]
  },
  {
   "cell_type": "code",
   "execution_count": 31,
   "metadata": {},
   "outputs": [
    {
     "name": "stdout",
     "output_type": "stream",
     "text": [
      "_________________________________________________________________\n",
      "Layer (type)                 Output Shape              Param #   \n",
      "=================================================================\n",
      "dense_7_input (InputLayer)   (None, 784)               0         \n",
      "_________________________________________________________________\n",
      "dense_7 (Dense)              (None, 32)                25120     \n",
      "=================================================================\n",
      "Total params: 25,120\n",
      "Trainable params: 0\n",
      "Non-trainable params: 25,120\n",
      "_________________________________________________________________\n"
     ]
    }
   ],
   "source": [
    "encoder_model.summary()"
   ]
  },
  {
   "cell_type": "code",
   "execution_count": null,
   "metadata": {},
   "outputs": [],
   "source": [
    "latent_value = encoder_model.predict(x_test[:10])"
   ]
  },
  {
   "cell_type": "code",
   "execution_count": null,
   "metadata": {},
   "outputs": [],
   "source": []
  },
  {
   "cell_type": "markdown",
   "metadata": {},
   "source": [
    "# reconstruct images"
   ]
  },
  {
   "cell_type": "code",
   "execution_count": 33,
   "metadata": {},
   "outputs": [],
   "source": [
    "autoencoder= make_FCae(encoding_dim, input_shape)\n",
    "autoencoder.load_weights('autoencoder.h5')\n",
    "autoencoder.trainable = False\n",
    "#autoencoder.compile(optimizer='adam', loss='binary_crossentropy')"
   ]
  },
  {
   "cell_type": "code",
   "execution_count": 34,
   "metadata": {},
   "outputs": [],
   "source": [
    "pred_img = autoencoder.predict(x_test[:10])"
   ]
  },
  {
   "cell_type": "code",
   "execution_count": 38,
   "metadata": {},
   "outputs": [
    {
     "data": {
      "image/png": "[encoded data removed]",
      "text/plain": [
       "<Figure size 144x144 with 1 Axes>"
      ]
     },
     "metadata": {
      "needs_background": "light"
     },
     "output_type": "display_data"
    }
   ],
   "source": [
    "plt.figure(figsize=(2, 2))\n",
    "plt.imshow(pred_img[3].reshape(28, 28),cmap=plt.cm.gray)\n",
    "plt.show()"
   ]
  },
  {
   "cell_type": "code",
   "execution_count": 40,
   "metadata": {},
   "outputs": [
    {
     "data": {
      "image/png": "[encoded data removed]",
      "text/plain": [
       "<Figure size 1440x288 with 10 Axes>"
      ]
     },
     "metadata": {
      "needs_background": "light"
     },
     "output_type": "display_data"
    }
   ],
   "source": [
    "\n",
    "n = 5\n",
    "plt.figure(figsize=(20, 4))\n",
    "\n",
    "for i in range(n):\n",
    "    \n",
    "    ax = plt.subplot(2, n, i + 1)\n",
    "    plt.imshow(x_test[i].reshape(28, 28))\n",
    "    plt.gray()\n",
    "    ax.get_xaxis().set_visible(False)\n",
    "    ax.get_yaxis().set_visible(False)\n",
    "\n",
    "    ax = plt.subplot(2, n, i + 1 + n)\n",
    "    plt.imshow(pred_img[i].reshape(28, 28))\n",
    "    plt.gray()\n",
    "    ax.get_xaxis().set_visible(False)\n",
    "    ax.get_yaxis().set_visible(False)\n",
    "plt.show()"
   ]
  },
  {
   "cell_type": "code",
   "execution_count": null,
   "metadata": {},
   "outputs": [],
   "source": []
  },
  {
   "cell_type": "markdown",
   "metadata": {},
   "source": [
    "# anomaly detection use Autoencoder"
   ]
  },
  {
   "cell_type": "code",
   "execution_count": 44,
   "metadata": {},
   "outputs": [],
   "source": [
    "(x_train, y_train), (x_test, y_test) = mnist.load_data()"
   ]
  },
  {
   "cell_type": "code",
   "execution_count": 45,
   "metadata": {},
   "outputs": [],
   "source": [
    "x_train_1 = x_train[y_train == 1]\n",
    "\n",
    "x_test_1 = x_test[y_test == 1]\n",
    "x_test_9 = x_test[y_test == 9]"
   ]
  },
  {
   "cell_type": "code",
   "execution_count": 46,
   "metadata": {},
   "outputs": [],
   "source": [
    "x_train_1 = x_train_1.astype('float32') / 255.\n",
    "x_test_1 = x_test_1.astype('float32') / 255.\n",
    "x_test_9 = x_test_9.astype('float32') / 255."
   ]
  },
  {
   "cell_type": "code",
   "execution_count": 47,
   "metadata": {},
   "outputs": [],
   "source": [
    "x_train_1 = x_train_1.reshape((len(x_train_1), np.prod(x_train_1.shape[1:])))\n",
    "x_test_1 = x_test_1.reshape((len(x_test_1), np.prod(x_test_1.shape[1:])))\n",
    "x_test_9 = x_test_9.reshape((len(x_test_9), np.prod(x_test_9.shape[1:])))"
   ]
  },
  {
   "cell_type": "code",
   "execution_count": 48,
   "metadata": {},
   "outputs": [],
   "source": [
    "ae = make_FCae(encoding_dim,input_shape)\n",
    "ae.compile(optimizer='adam', loss='binary_crossentropy')"
   ]
  },
  {
   "cell_type": "code",
   "execution_count": 49,
   "metadata": {},
   "outputs": [
    {
     "name": "stdout",
     "output_type": "stream",
     "text": [
      "_________________________________________________________________\n",
      "Layer (type)                 Output Shape              Param #   \n",
      "=================================================================\n",
      "dense_11 (Dense)             (None, 32)                25120     \n",
      "_________________________________________________________________\n",
      "dense_12 (Dense)             (None, 784)               25872     \n",
      "=================================================================\n",
      "Total params: 50,992\n",
      "Trainable params: 50,992\n",
      "Non-trainable params: 0\n",
      "_________________________________________________________________\n"
     ]
    }
   ],
   "source": [
    "ae.summary()"
   ]
  },
  {
   "cell_type": "code",
   "execution_count": 51,
   "metadata": {},
   "outputs": [
    {
     "name": "stdout",
     "output_type": "stream",
     "text": [
      "Train on 6742 samples, validate on 1135 samples\n",
      "Epoch 1/100\n",
      "6742/6742 [==============================] - 0s 32us/step - loss: 0.0880 - val_loss: 0.0836\n",
      "Epoch 2/100\n",
      "6742/6742 [==============================] - 0s 29us/step - loss: 0.0830 - val_loss: 0.0799\n",
      "Epoch 3/100\n",
      "6742/6742 [==============================] - 0s 30us/step - loss: 0.0802 - val_loss: 0.0778\n",
      "Epoch 4/100\n",
      "6742/6742 [==============================] - 0s 30us/step - loss: 0.0783 - val_loss: 0.0761\n",
      "Epoch 5/100\n",
      "6742/6742 [==============================] - 0s 30us/step - loss: 0.0765 - val_loss: 0.0740\n",
      "Epoch 6/100\n",
      "6742/6742 [==============================] - 0s 31us/step - loss: 0.0743 - val_loss: 0.0717\n",
      "Epoch 7/100\n",
      "6742/6742 [==============================] - 0s 30us/step - loss: 0.0721 - val_loss: 0.0694\n",
      "Epoch 8/100\n",
      "6742/6742 [==============================] - 0s 29us/step - loss: 0.0698 - val_loss: 0.0671\n",
      "Epoch 9/100\n",
      "6742/6742 [==============================] - 0s 30us/step - loss: 0.0676 - val_loss: 0.0651\n",
      "Epoch 10/100\n",
      "6742/6742 [==============================] - 0s 37us/step - loss: 0.0658 - val_loss: 0.0634\n",
      "Epoch 11/100\n",
      "6742/6742 [==============================] - 0s 35us/step - loss: 0.0643 - val_loss: 0.0620\n",
      "Epoch 12/100\n",
      "6742/6742 [==============================] - 0s 35us/step - loss: 0.0630 - val_loss: 0.0608\n",
      "Epoch 13/100\n",
      "6742/6742 [==============================] - 0s 36us/step - loss: 0.0619 - val_loss: 0.0598\n",
      "Epoch 14/100\n",
      "6742/6742 [==============================] - 0s 29us/step - loss: 0.0610 - val_loss: 0.0590\n",
      "Epoch 15/100\n",
      "6742/6742 [==============================] - 0s 28us/step - loss: 0.0602 - val_loss: 0.0583\n",
      "Epoch 16/100\n",
      "6742/6742 [==============================] - 0s 28us/step - loss: 0.0594 - val_loss: 0.0576\n",
      "Epoch 17/100\n",
      "6742/6742 [==============================] - 0s 29us/step - loss: 0.0588 - val_loss: 0.0569\n",
      "Epoch 18/100\n",
      "6742/6742 [==============================] - 0s 28us/step - loss: 0.0581 - val_loss: 0.0564\n",
      "Epoch 19/100\n",
      "6742/6742 [==============================] - 0s 29us/step - loss: 0.0575 - val_loss: 0.0558\n",
      "Epoch 20/100\n",
      "6742/6742 [==============================] - 0s 29us/step - loss: 0.0569 - val_loss: 0.0553\n",
      "Epoch 21/100\n",
      "6742/6742 [==============================] - 0s 28us/step - loss: 0.0563 - val_loss: 0.0547\n",
      "Epoch 22/100\n",
      "6742/6742 [==============================] - 0s 29us/step - loss: 0.0558 - val_loss: 0.0542\n",
      "Epoch 23/100\n",
      "6742/6742 [==============================] - 0s 28us/step - loss: 0.0552 - val_loss: 0.0537\n",
      "Epoch 24/100\n",
      "6742/6742 [==============================] - 0s 29us/step - loss: 0.0547 - val_loss: 0.0532\n",
      "Epoch 25/100\n",
      "6742/6742 [==============================] - 0s 29us/step - loss: 0.0542 - val_loss: 0.0528\n",
      "Epoch 26/100\n",
      "6742/6742 [==============================] - 0s 29us/step - loss: 0.0537 - val_loss: 0.0524\n",
      "Epoch 27/100\n",
      "6742/6742 [==============================] - 0s 29us/step - loss: 0.0533 - val_loss: 0.0520\n",
      "Epoch 28/100\n",
      "6742/6742 [==============================] - 0s 27us/step - loss: 0.0529 - val_loss: 0.0516\n",
      "Epoch 29/100\n",
      "6742/6742 [==============================] - 0s 30us/step - loss: 0.0525 - val_loss: 0.0512\n",
      "Epoch 30/100\n",
      "6742/6742 [==============================] - 0s 30us/step - loss: 0.0521 - val_loss: 0.0509\n",
      "Epoch 31/100\n",
      "6742/6742 [==============================] - 0s 29us/step - loss: 0.0517 - val_loss: 0.0506\n",
      "Epoch 32/100\n",
      "6742/6742 [==============================] - 0s 29us/step - loss: 0.0514 - val_loss: 0.0503\n",
      "Epoch 33/100\n",
      "6742/6742 [==============================] - 0s 31us/step - loss: 0.0511 - val_loss: 0.0500\n",
      "Epoch 34/100\n",
      "6742/6742 [==============================] - 0s 31us/step - loss: 0.0508 - val_loss: 0.0497\n",
      "Epoch 35/100\n",
      "6742/6742 [==============================] - 0s 29us/step - loss: 0.0505 - val_loss: 0.0494\n",
      "Epoch 36/100\n",
      "6742/6742 [==============================] - 0s 28us/step - loss: 0.0502 - val_loss: 0.0492\n",
      "Epoch 37/100\n",
      "6742/6742 [==============================] - 0s 29us/step - loss: 0.0499 - val_loss: 0.0489\n",
      "Epoch 38/100\n",
      "6742/6742 [==============================] - 0s 30us/step - loss: 0.0497 - val_loss: 0.0487\n",
      "Epoch 39/100\n",
      "6742/6742 [==============================] - 0s 28us/step - loss: 0.0494 - val_loss: 0.0485\n",
      "Epoch 40/100\n",
      "6742/6742 [==============================] - 0s 29us/step - loss: 0.0492 - val_loss: 0.0483\n",
      "Epoch 41/100\n",
      "6742/6742 [==============================] - 0s 29us/step - loss: 0.0490 - val_loss: 0.0481\n",
      "Epoch 42/100\n",
      "6742/6742 [==============================] - 0s 29us/step - loss: 0.0488 - val_loss: 0.0479\n",
      "Epoch 43/100\n",
      "6742/6742 [==============================] - 0s 29us/step - loss: 0.0486 - val_loss: 0.0477\n",
      "Epoch 44/100\n",
      "6742/6742 [==============================] - 0s 29us/step - loss: 0.0484 - val_loss: 0.0476\n",
      "Epoch 45/100\n",
      "6742/6742 [==============================] - 0s 29us/step - loss: 0.0482 - val_loss: 0.0474\n",
      "Epoch 46/100\n",
      "6742/6742 [==============================] - 0s 29us/step - loss: 0.0480 - val_loss: 0.0472\n",
      "Epoch 47/100\n",
      "6742/6742 [==============================] - 0s 29us/step - loss: 0.0478 - val_loss: 0.0471\n",
      "Epoch 48/100\n",
      "6742/6742 [==============================] - 0s 28us/step - loss: 0.0476 - val_loss: 0.0469\n",
      "Epoch 49/100\n",
      "6742/6742 [==============================] - 0s 28us/step - loss: 0.0475 - val_loss: 0.0468\n",
      "Epoch 50/100\n",
      "6742/6742 [==============================] - 0s 28us/step - loss: 0.0473 - val_loss: 0.0466\n",
      "Epoch 51/100\n",
      "6742/6742 [==============================] - 0s 29us/step - loss: 0.0472 - val_loss: 0.0465\n",
      "Epoch 52/100\n",
      "6742/6742 [==============================] - 0s 28us/step - loss: 0.0470 - val_loss: 0.0464\n",
      "Epoch 53/100\n",
      "6742/6742 [==============================] - 0s 29us/step - loss: 0.0468 - val_loss: 0.0462\n",
      "Epoch 54/100\n",
      "6742/6742 [==============================] - 0s 29us/step - loss: 0.0467 - val_loss: 0.0461\n",
      "Epoch 55/100\n",
      "6742/6742 [==============================] - 0s 28us/step - loss: 0.0466 - val_loss: 0.0460\n",
      "Epoch 56/100\n",
      "6742/6742 [==============================] - 0s 29us/step - loss: 0.0464 - val_loss: 0.0459\n",
      "Epoch 57/100\n",
      "6742/6742 [==============================] - 0s 27us/step - loss: 0.0463 - val_loss: 0.0457\n",
      "Epoch 58/100\n",
      "6742/6742 [==============================] - 0s 32us/step - loss: 0.0461 - val_loss: 0.0456\n",
      "Epoch 59/100\n",
      "6742/6742 [==============================] - 0s 29us/step - loss: 0.0460 - val_loss: 0.0455\n",
      "Epoch 60/100\n",
      "6742/6742 [==============================] - 0s 28us/step - loss: 0.0459 - val_loss: 0.0454\n",
      "Epoch 61/100\n",
      "6742/6742 [==============================] - 0s 29us/step - loss: 0.0458 - val_loss: 0.0453\n",
      "Epoch 62/100\n",
      "6742/6742 [==============================] - 0s 31us/step - loss: 0.0456 - val_loss: 0.0452\n",
      "Epoch 63/100\n",
      "6742/6742 [==============================] - 0s 27us/step - loss: 0.0455 - val_loss: 0.0451\n",
      "Epoch 64/100\n",
      "6742/6742 [==============================] - 0s 28us/step - loss: 0.0454 - val_loss: 0.0450\n",
      "Epoch 65/100\n",
      "6742/6742 [==============================] - 0s 28us/step - loss: 0.0453 - val_loss: 0.0449\n",
      "Epoch 66/100\n",
      "6742/6742 [==============================] - 0s 31us/step - loss: 0.0451 - val_loss: 0.0448\n",
      "Epoch 67/100\n",
      "6742/6742 [==============================] - 0s 28us/step - loss: 0.0450 - val_loss: 0.0447\n",
      "Epoch 68/100\n",
      "6742/6742 [==============================] - 0s 29us/step - loss: 0.0449 - val_loss: 0.0446\n",
      "Epoch 69/100\n",
      "6742/6742 [==============================] - 0s 29us/step - loss: 0.0448 - val_loss: 0.0445\n",
      "Epoch 70/100\n",
      "6742/6742 [==============================] - 0s 30us/step - loss: 0.0447 - val_loss: 0.0444\n",
      "Epoch 71/100\n",
      "6742/6742 [==============================] - 0s 28us/step - loss: 0.0446 - val_loss: 0.0443\n",
      "Epoch 72/100\n",
      "6742/6742 [==============================] - 0s 29us/step - loss: 0.0445 - val_loss: 0.0442\n",
      "Epoch 73/100\n",
      "6742/6742 [==============================] - 0s 29us/step - loss: 0.0444 - val_loss: 0.0441\n",
      "Epoch 74/100\n",
      "6742/6742 [==============================] - 0s 36us/step - loss: 0.0443 - val_loss: 0.0440\n",
      "Epoch 75/100\n",
      "6742/6742 [==============================] - 0s 29us/step - loss: 0.0442 - val_loss: 0.0439\n",
      "Epoch 76/100\n",
      "6742/6742 [==============================] - 0s 32us/step - loss: 0.0441 - val_loss: 0.0438\n",
      "Epoch 77/100\n",
      "6742/6742 [==============================] - 0s 30us/step - loss: 0.0440 - val_loss: 0.0438\n",
      "Epoch 78/100\n",
      "6742/6742 [==============================] - 0s 29us/step - loss: 0.0439 - val_loss: 0.0437\n",
      "Epoch 79/100\n",
      "6742/6742 [==============================] - 0s 30us/step - loss: 0.0438 - val_loss: 0.0436\n",
      "Epoch 80/100\n",
      "6742/6742 [==============================] - 0s 29us/step - loss: 0.0437 - val_loss: 0.0435\n",
      "Epoch 81/100\n",
      "6742/6742 [==============================] - 0s 30us/step - loss: 0.0436 - val_loss: 0.0435\n",
      "Epoch 82/100\n",
      "6742/6742 [==============================] - 0s 28us/step - loss: 0.0435 - val_loss: 0.0434\n",
      "Epoch 83/100\n",
      "6742/6742 [==============================] - 0s 29us/step - loss: 0.0435 - val_loss: 0.0433\n",
      "Epoch 84/100\n",
      "6742/6742 [==============================] - 0s 30us/step - loss: 0.0434 - val_loss: 0.0432\n",
      "Epoch 85/100\n",
      "6742/6742 [==============================] - 0s 27us/step - loss: 0.0433 - val_loss: 0.0432\n",
      "Epoch 86/100\n",
      "6742/6742 [==============================] - 0s 29us/step - loss: 0.0432 - val_loss: 0.0431\n",
      "Epoch 87/100\n",
      "6742/6742 [==============================] - 0s 30us/step - loss: 0.0431 - val_loss: 0.0430\n",
      "Epoch 88/100\n",
      "6742/6742 [==============================] - 0s 29us/step - loss: 0.0431 - val_loss: 0.0430\n",
      "Epoch 89/100\n",
      "6742/6742 [==============================] - 0s 29us/step - loss: 0.0430 - val_loss: 0.0429\n",
      "Epoch 90/100\n",
      "6742/6742 [==============================] - 0s 29us/step - loss: 0.0429 - val_loss: 0.0428\n",
      "Epoch 91/100\n",
      "6742/6742 [==============================] - 0s 30us/step - loss: 0.0428 - val_loss: 0.0428\n",
      "Epoch 92/100\n",
      "6742/6742 [==============================] - 0s 28us/step - loss: 0.0428 - val_loss: 0.0427\n",
      "Epoch 93/100\n",
      "6742/6742 [==============================] - 0s 29us/step - loss: 0.0427 - val_loss: 0.0427\n",
      "Epoch 94/100\n",
      "6742/6742 [==============================] - 0s 28us/step - loss: 0.0426 - val_loss: 0.0426\n",
      "Epoch 95/100\n",
      "6742/6742 [==============================] - 0s 29us/step - loss: 0.0426 - val_loss: 0.0425\n",
      "Epoch 96/100\n",
      "6742/6742 [==============================] - 0s 29us/step - loss: 0.0425 - val_loss: 0.0425\n",
      "Epoch 97/100\n",
      "6742/6742 [==============================] - 0s 26us/step - loss: 0.0424 - val_loss: 0.0424\n",
      "Epoch 98/100\n",
      "6742/6742 [==============================] - 0s 28us/step - loss: 0.0424 - val_loss: 0.0424\n",
      "Epoch 99/100\n",
      "6742/6742 [==============================] - 0s 28us/step - loss: 0.0423 - val_loss: 0.0423\n",
      "Epoch 100/100\n",
      "6742/6742 [==============================] - 0s 28us/step - loss: 0.0422 - val_loss: 0.0423\n"
     ]
    },
    {
     "data": {
      "text/plain": [
       "<keras.callbacks.History at 0x250ad166c88>"
      ]
     },
     "execution_count": 51,
     "metadata": {},
     "output_type": "execute_result"
    }
   ],
   "source": [
    "ae.fit(x_train_1, x_train_1,epochs=100, batch_size=256,shuffle=True,\n",
    "       validation_data=(x_test_1, x_test_1), callbacks=[es_cb])"
   ]
  },
  {
   "cell_type": "code",
   "execution_count": 52,
   "metadata": {},
   "outputs": [],
   "source": [
    "ae.save_weights('autoencoder_anomaly_detect.h5')"
   ]
  },
  {
   "cell_type": "code",
   "execution_count": 53,
   "metadata": {},
   "outputs": [],
   "source": [
    "autoencoder_detect= make_FCae(encoding_dim, input_shape)\n",
    "autoencoder_detect.load_weights('autoencoder_anomaly_detect.h5')\n",
    "autoencoder_detect.trainable = False\n",
    "#autoencoder.compile(optimizer='adam', loss='binary_crossentropy')"
   ]
  },
  {
   "cell_type": "code",
   "execution_count": 104,
   "metadata": {},
   "outputs": [],
   "source": [
    "check_number = 30\n",
    "\n",
    "pred_img_1 = autoencoder_detect.predict(x_test_1[:30])\n",
    "pred_img_9 = autoencoder_detect.predict(x_test_9[:30])"
   ]
  },
  {
   "cell_type": "code",
   "execution_count": 105,
   "metadata": {},
   "outputs": [
    {
     "data": {
      "image/png": "[encoded data removed]",
      "text/plain": [
       "<Figure size 144x144 with 1 Axes>"
      ]
     },
     "metadata": {
      "needs_background": "light"
     },
     "output_type": "display_data"
    }
   ],
   "source": [
    "plt.figure(figsize=(2, 2))\n",
    "plt.imshow(pred_img_1[3].reshape(28, 28),cmap=plt.cm.gray)\n",
    "plt.show()"
   ]
  },
  {
   "cell_type": "code",
   "execution_count": 106,
   "metadata": {},
   "outputs": [
    {
     "data": {
      "image/png": "[encoded data removed]",
      "text/plain": [
       "<Figure size 144x144 with 1 Axes>"
      ]
     },
     "metadata": {
      "needs_background": "light"
     },
     "output_type": "display_data"
    }
   ],
   "source": [
    "plt.figure(figsize=(2, 2))\n",
    "plt.imshow(pred_img_9[3].reshape(28, 28),cmap=plt.cm.gray)\n",
    "plt.show()"
   ]
  },
  {
   "cell_type": "code",
   "execution_count": 107,
   "metadata": {},
   "outputs": [
    {
     "data": {
      "image/png": "[encoded data removed]",
      "text/plain": [
       "<Figure size 720x360 with 20 Axes>"
      ]
     },
     "metadata": {
      "needs_background": "light"
     },
     "output_type": "display_data"
    }
   ],
   "source": [
    "\n",
    "n=5\n",
    "\n",
    "plt.figure(figsize=(10, 5))\n",
    "\n",
    "for i in range(n):\n",
    "    \n",
    "    ax = plt.subplot(4, n, i + 1)\n",
    "    plt.imshow(x_test_1[i].reshape(28, 28))\n",
    "    plt.gray()\n",
    "    ax.get_xaxis().set_visible(False)\n",
    "    ax.get_yaxis().set_visible(False)\n",
    "\n",
    "    ax = plt.subplot(4, n, i + 1 + n)\n",
    "    plt.imshow(pred_img_1[i].reshape(28, 28))\n",
    "    plt.gray()\n",
    "    ax.get_xaxis().set_visible(False)\n",
    "    ax.get_yaxis().set_visible(False)\n",
    "    \n",
    "    \n",
    "    \n",
    "    ax = plt.subplot(4, n, i + 1 + 2*n)\n",
    "    plt.imshow(x_test_9[i].reshape(28, 28))\n",
    "    plt.gray()\n",
    "    ax.get_xaxis().set_visible(False)\n",
    "    ax.get_yaxis().set_visible(False)   \n",
    "    \n",
    "    \n",
    "    ax = plt.subplot(4, n, i + 1 + 3*n)\n",
    "    plt.imshow(pred_img_9[i].reshape(28, 28))\n",
    "    plt.gray()\n",
    "    ax.get_xaxis().set_visible(False)\n",
    "    ax.get_yaxis().set_visible(False)\n",
    "    \n",
    "    \n",
    "plt.show()"
   ]
  },
  {
   "cell_type": "code",
   "execution_count": 108,
   "metadata": {},
   "outputs": [
    {
     "data": {
      "text/plain": [
       "6.617225123569369"
      ]
     },
     "execution_count": 108,
     "metadata": {},
     "output_type": "execute_result"
    }
   ],
   "source": [
    "sum(abs(x_test_1[0] - pred_img_1[0]))"
   ]
  },
  {
   "cell_type": "code",
   "execution_count": 109,
   "metadata": {},
   "outputs": [
    {
     "data": {
      "text/plain": [
       "76.82280905917287"
      ]
     },
     "execution_count": 109,
     "metadata": {},
     "output_type": "execute_result"
    }
   ],
   "source": [
    "sum(abs(x_test_9[0] - pred_img_9[0]))"
   ]
  },
  {
   "cell_type": "code",
   "execution_count": 151,
   "metadata": {},
   "outputs": [],
   "source": [
    "score_normal=[]\n",
    "score_abnormal=[]\n",
    "\n",
    "for i in range(check_number):\n",
    "    score_normal.append(sum(abs(x_test_1[i] - pred_img_1[i])))\n",
    "    score_abnormal.append(sum(abs(x_test_1[i] - pred_img_9[i])))"
   ]
  },
  {
   "cell_type": "code",
   "execution_count": 152,
   "metadata": {},
   "outputs": [],
   "source": [
    "score_normal.extend(score_abnormal)"
   ]
  },
  {
   "cell_type": "code",
   "execution_count": 153,
   "metadata": {},
   "outputs": [],
   "source": [
    "label = np.zeros(check_number*2)\n",
    "label[check_number:] = 1"
   ]
  },
  {
   "cell_type": "code",
   "execution_count": 154,
   "metadata": {},
   "outputs": [],
   "source": [
    "score_index = list(range(0, check_number*2, 1))"
   ]
  },
  {
   "cell_type": "code",
   "execution_count": 165,
   "metadata": {},
   "outputs": [],
   "source": [
    "import pandas as pd\n",
    "import seaborn as sns"
   ]
  },
  {
   "cell_type": "code",
   "execution_count": 163,
   "metadata": {},
   "outputs": [],
   "source": [
    "df = pd.DataFrame()"
   ]
  },
  {
   "cell_type": "code",
   "execution_count": 164,
   "metadata": {},
   "outputs": [],
   "source": [
    "df[\"score\"] = score_normal\n",
    "df[\"number\"] = score_index\n",
    "df[\"label\"] = label"
   ]
  },
  {
   "cell_type": "code",
   "execution_count": 167,
   "metadata": {},
   "outputs": [
    {
     "data": {
      "text/plain": [
       "<AxesSubplot:xlabel='number', ylabel='score'>"
      ]
     },
     "execution_count": 167,
     "metadata": {},
     "output_type": "execute_result"
    },
    {
     "data": {
      "image/png": "[encoded data removed]",
      "text/plain": [
       "<Figure size 432x288 with 1 Axes>"
      ]
     },
     "metadata": {
      "needs_background": "light"
     },
     "output_type": "display_data"
    }
   ],
   "source": [
    "sns.scatterplot(data=df, x=\"number\", y=\"score\", hue=\"label\")"
   ]
  },
  {
   "cell_type": "code",
   "execution_count": 175,
   "metadata": {},
   "outputs": [],
   "source": [
    "#そもそもの空白の空間が多い画像ほど、一致度も高くなる。\n",
    "#全部のタスクでうまくいくわけではない"
   ]
  },
  {
   "cell_type": "markdown",
   "metadata": {},
   "source": [
    "# KDE for latent space"
   ]
  },
  {
   "cell_type": "code",
   "execution_count": 181,
   "metadata": {},
   "outputs": [],
   "source": [
    "\n",
    "def make_normal_encoder():\n",
    "    encoder= make_FCae(encoding_dim, input_shape)\n",
    "    encoder.compile(optimizer='adadelta', loss='binary_crossentropy')\n",
    "    encoder.load_weights('autoencoder_anomaly_detect.h5')\n",
    "    \n",
    "    encoder_model = Model(inputs=encoder.layers[0].input, outputs=encoder.layers[0].output)\n",
    "    \n",
    "    encoder_model.trainable = False\n",
    "    \n",
    "    encoder_model.compile(loss='binary_crossentropy', optimizer='adam')\n",
    "    return encoder_model\n"
   ]
  },
  {
   "cell_type": "code",
   "execution_count": 182,
   "metadata": {},
   "outputs": [
    {
     "name": "stdout",
     "output_type": "stream",
     "text": [
      "_________________________________________________________________\n",
      "Layer (type)                 Output Shape              Param #   \n",
      "=================================================================\n",
      "dense_17_input (InputLayer)  (None, 784)               0         \n",
      "_________________________________________________________________\n",
      "dense_17 (Dense)             (None, 32)                25120     \n",
      "=================================================================\n",
      "Total params: 25,120\n",
      "Trainable params: 0\n",
      "Non-trainable params: 25,120\n",
      "_________________________________________________________________\n"
     ]
    }
   ],
   "source": [
    "encoder_model = make_normal_encoder()\n",
    "\n",
    "encoder_model.summary()"
   ]
  },
  {
   "cell_type": "code",
   "execution_count": 183,
   "metadata": {},
   "outputs": [],
   "source": [
    "x_train_1_latent_value = encoder_model.predict(x_train_1[:100])\n",
    "\n",
    "x_test_1_latent_value = encoder_model.predict(x_test_1[:100])\n",
    "\n",
    "x_test_9_latent_value = encoder_model.predict(x_test_9[:100])"
   ]
  },
  {
   "cell_type": "code",
   "execution_count": 184,
   "metadata": {},
   "outputs": [],
   "source": [
    "x_train_1_latent_value_flat = [np.reshape(img, (32)) for img in x_train_1_latent_value]\n",
    "\n",
    "x_test_1_latent_value_flat = [np.reshape(img, (32)) for img in x_test_1_latent_value]\n",
    "\n",
    "x_test_9_latent_value_flat = [np.reshape(img, (32)) for img in x_test_9_latent_value]"
   ]
  },
  {
   "cell_type": "code",
   "execution_count": null,
   "metadata": {},
   "outputs": [],
   "source": [
    "from sklearn.neighbors import KernelDensity"
   ]
  },
  {
   "cell_type": "code",
   "execution_count": 185,
   "metadata": {},
   "outputs": [],
   "source": [
    "kde = KernelDensity(kernel='gaussian', bandwidth=0.2).fit(latent_value_flat)\n",
    "\n",
    "x_train_1_density_scores = kde.score_samples(x_train_1_latent_value_flat)\n",
    "\n",
    "x_test_1_density_scores = kde.score_samples(x_test_1_latent_value_flat)\n",
    "\n",
    "x_test_9_density_scores = kde.score_samples(x_test_9_latent_value_flat)"
   ]
  },
  {
   "cell_type": "code",
   "execution_count": 186,
   "metadata": {},
   "outputs": [
    {
     "data": {
      "image/png": "[encoded data removed]",
      "text/plain": [
       "<Figure size 720x504 with 1 Axes>"
      ]
     },
     "metadata": {
      "needs_background": "light"
     },
     "output_type": "display_data"
    }
   ],
   "source": [
    "plt.figure(figsize = (10,7))\n",
    "plt.title('Distribution of Density Scores')\n",
    "plt.hist(x_train_1_density_scores, 12, alpha=0.5, label='Training Normal')\n",
    "plt.hist(x_test_1_density_scores, 12, alpha=0.5, label='Validation Normal')\n",
    "plt.hist(x_test_9_density_scores, 12, alpha=0.5, label='Anomalies')\n",
    "plt.legend(loc='upper right')\n",
    "plt.xlabel('Density Score')\n",
    "\n",
    "plt.show()"
   ]
  },
  {
   "cell_type": "code",
   "execution_count": null,
   "metadata": {},
   "outputs": [],
   "source": []
  },
  {
   "cell_type": "code",
   "execution_count": 192,
   "metadata": {},
   "outputs": [],
   "source": [
    "from sklearn.manifold import TSNE"
   ]
  },
  {
   "cell_type": "code",
   "execution_count": 196,
   "metadata": {},
   "outputs": [],
   "source": [
    "x_test_1_embedded = TSNE(n_components=2).fit_transform(x_test_1_latent_value)\n",
    "x_test_9_embedded = TSNE(n_components=2).fit_transform(x_test_9_latent_value)\n",
    "x_train_1_embedded = TSNE(n_components=2).fit_transform(x_train_1_latent_value)"
   ]
  },
  {
   "cell_type": "code",
   "execution_count": 220,
   "metadata": {},
   "outputs": [],
   "source": [
    "normal_test_enbedded_space = pd.DataFrame()\n",
    "\n",
    "normal_test_enbedded_space[\"X\"] = x_test_1_embedded[:,0]\n",
    "normal_test_enbedded_space[\"Y\"] = x_test_1_embedded[:,1]\n",
    "normal_test_enbedded_space[\"label\"] = \"test\" # normal test"
   ]
  },
  {
   "cell_type": "code",
   "execution_count": 221,
   "metadata": {},
   "outputs": [],
   "source": [
    "abnormal_test_enbedded_space = pd.DataFrame()\n",
    "\n",
    "abnormal_test_enbedded_space[\"X\"] = x_test_9_embedded[:,0]\n",
    "abnormal_test_enbedded_space[\"Y\"] = x_test_9_embedded[:,1]\n",
    "abnormal_test_enbedded_space[\"label\"] = \"abnormal\" # abnormal test"
   ]
  },
  {
   "cell_type": "code",
   "execution_count": 222,
   "metadata": {},
   "outputs": [],
   "source": [
    "train_enbedded_space = pd.DataFrame()\n",
    "\n",
    "train_enbedded_space[\"X\"] = x_train_1_embedded[:,0]\n",
    "train_enbedded_space[\"Y\"] = x_train_1_embedded[:,1]\n",
    "train_enbedded_space[\"label\"] = \"train\" # normal train"
   ]
  },
  {
   "cell_type": "code",
   "execution_count": null,
   "metadata": {},
   "outputs": [],
   "source": []
  },
  {
   "cell_type": "code",
   "execution_count": 224,
   "metadata": {},
   "outputs": [],
   "source": [
    "enbedded_space = pd.concat([train_enbedded_space, \n",
    "                            normal_test_enbedded_space, \n",
    "                            abnormal_test_enbedded_space],axis=0)"
   ]
  },
  {
   "cell_type": "code",
   "execution_count": 225,
   "metadata": {},
   "outputs": [
    {
     "data": {
      "text/plain": [
       "<AxesSubplot:xlabel='X', ylabel='Y'>"
      ]
     },
     "execution_count": 225,
     "metadata": {},
     "output_type": "execute_result"
    },
    {
     "data": {
      "image/png": "[encoded data removed]",
      "text/plain": [
       "<Figure size 432x288 with 1 Axes>"
      ]
     },
     "metadata": {},
     "output_type": "display_data"
    }
   ],
   "source": [
    "sns.scatterplot(data=enbedded_space, x=\"X\", y=\"Y\", hue=\"label\", palette=\"deep\")"
   ]
  },
  {
   "cell_type": "code",
   "execution_count": null,
   "metadata": {},
   "outputs": [],
   "source": []
  },
  {
   "cell_type": "code",
   "execution_count": null,
   "metadata": {},
   "outputs": [],
   "source": []
  },
  {
   "cell_type": "code",
   "execution_count": null,
   "metadata": {},
   "outputs": [],
   "source": []
  },
  {
   "cell_type": "markdown",
   "metadata": {},
   "source": [
    "# conv autoencoder"
   ]
  },
  {
   "cell_type": "code",
   "execution_count": 229,
   "metadata": {},
   "outputs": [],
   "source": [
    "from keras.layers import Input, Dense, Conv2D, MaxPooling2D, UpSampling2D\n",
    "from keras.models import Model\n",
    "from keras import backend as K\n",
    "\n",
    "input_img = Input(shape=(28, 28, 1))\n",
    "x = Conv2D(16, (3, 3), activation='relu', padding='same')(input_img)\n",
    "x = MaxPooling2D((2, 2), padding='same')(x)\n",
    "x = Conv2D(8, (3, 3), activation='relu', padding='same')(x)\n",
    "x = MaxPooling2D((2, 2), padding='same')(x)\n",
    "x = Conv2D(8, (3, 3), activation='relu', padding='same')(x)\n",
    "encoded = MaxPooling2D((2, 2), padding='same')(x)\n",
    "\n",
    "\n",
    "x = Conv2D(8, (3, 3), activation='relu', padding='same')(encoded)\n",
    "x = UpSampling2D((2, 2))(x)\n",
    "x = Conv2D(8, (3, 3), activation='relu', padding='same')(x)\n",
    "x = UpSampling2D((2, 2))(x)\n",
    "x = Conv2D(16, (3, 3), activation='relu')(x)\n",
    "x = UpSampling2D((2, 2))(x)\n",
    "decoded = Conv2D(1, (3, 3), activation='sigmoid', padding='same')(x)\n",
    "\n",
    "autoencoder = Model(input_img, decoded)\n",
    "autoencoder.compile(optimizer='adadelta', loss='binary_crossentropy')"
   ]
  },
  {
   "cell_type": "code",
   "execution_count": 232,
   "metadata": {},
   "outputs": [
    {
     "name": "stdout",
     "output_type": "stream",
     "text": [
      "_________________________________________________________________\n",
      "Layer (type)                 Output Shape              Param #   \n",
      "=================================================================\n",
      "input_5 (InputLayer)         (None, 28, 28, 1)         0         \n",
      "_________________________________________________________________\n",
      "conv2d_1 (Conv2D)            (None, 28, 28, 16)        160       \n",
      "_________________________________________________________________\n",
      "max_pooling2d_1 (MaxPooling2 (None, 14, 14, 16)        0         \n",
      "_________________________________________________________________\n",
      "conv2d_2 (Conv2D)            (None, 14, 14, 8)         1160      \n",
      "_________________________________________________________________\n",
      "max_pooling2d_2 (MaxPooling2 (None, 7, 7, 8)           0         \n",
      "_________________________________________________________________\n",
      "conv2d_3 (Conv2D)            (None, 7, 7, 8)           584       \n",
      "_________________________________________________________________\n",
      "max_pooling2d_3 (MaxPooling2 (None, 4, 4, 8)           0         \n",
      "_________________________________________________________________\n",
      "conv2d_4 (Conv2D)            (None, 4, 4, 8)           584       \n",
      "_________________________________________________________________\n",
      "up_sampling2d_1 (UpSampling2 (None, 8, 8, 8)           0         \n",
      "_________________________________________________________________\n",
      "conv2d_5 (Conv2D)            (None, 8, 8, 8)           584       \n",
      "_________________________________________________________________\n",
      "up_sampling2d_2 (UpSampling2 (None, 16, 16, 8)         0         \n",
      "_________________________________________________________________\n",
      "conv2d_6 (Conv2D)            (None, 14, 14, 16)        1168      \n",
      "_________________________________________________________________\n",
      "up_sampling2d_3 (UpSampling2 (None, 28, 28, 16)        0         \n",
      "_________________________________________________________________\n",
      "conv2d_7 (Conv2D)            (None, 28, 28, 1)         145       \n",
      "=================================================================\n",
      "Total params: 4,385\n",
      "Trainable params: 4,385\n",
      "Non-trainable params: 0\n",
      "_________________________________________________________________\n"
     ]
    }
   ],
   "source": [
    "autoencoder.summary()"
   ]
  },
  {
   "cell_type": "code",
   "execution_count": 233,
   "metadata": {},
   "outputs": [],
   "source": [
    "from keras.datasets import mnist\n",
    "import numpy as np\n",
    "\n",
    "(x_train, _), (x_test, _) = mnist.load_data()\n",
    "\n",
    "x_train = x_train.astype('float32') / 255.\n",
    "x_test = x_test.astype('float32') / 255.\n",
    "x_train = np.reshape(x_train, (len(x_train), 28, 28, 1)) \n",
    "x_test = np.reshape(x_test, (len(x_test), 28, 28, 1)) "
   ]
  },
  {
   "cell_type": "code",
   "execution_count": 234,
   "metadata": {},
   "outputs": [
    {
     "name": "stdout",
     "output_type": "stream",
     "text": [
      "Train on 60000 samples, validate on 10000 samples\n",
      "Epoch 1/10\n",
      "60000/60000 [==============================] - 66s 1ms/step - loss: 0.2140 - val_loss: 0.1618\n",
      "Epoch 2/10\n",
      "60000/60000 [==============================] - 64s 1ms/step - loss: 0.1538 - val_loss: 0.1475\n",
      "Epoch 3/10\n",
      "60000/60000 [==============================] - 64s 1ms/step - loss: 0.1394 - val_loss: 0.1342\n",
      "Epoch 4/10\n",
      "60000/60000 [==============================] - 64s 1ms/step - loss: 0.1329 - val_loss: 0.1283\n",
      "Epoch 5/10\n",
      "60000/60000 [==============================] - 64s 1ms/step - loss: 0.1285 - val_loss: 0.1246\n",
      "Epoch 6/10\n",
      "60000/60000 [==============================] - 64s 1ms/step - loss: 0.1251 - val_loss: 0.1255\n",
      "Epoch 7/10\n",
      "60000/60000 [==============================] - 64s 1ms/step - loss: 0.1229 - val_loss: 0.1250\n",
      "Epoch 8/10\n",
      "60000/60000 [==============================] - 64s 1ms/step - loss: 0.1211 - val_loss: 0.1181\n",
      "Epoch 9/10\n",
      "60000/60000 [==============================] - 65s 1ms/step - loss: 0.1199 - val_loss: 0.1161\n",
      "Epoch 10/10\n",
      "60000/60000 [==============================] - 65s 1ms/step - loss: 0.1182 - val_loss: 0.1193\n"
     ]
    },
    {
     "data": {
      "text/plain": [
       "<keras.callbacks.History at 0x250b0090408>"
      ]
     },
     "execution_count": 234,
     "metadata": {},
     "output_type": "execute_result"
    }
   ],
   "source": [
    "from keras.callbacks import TensorBoard\n",
    "\n",
    "autoencoder.fit(x_train, x_train,\n",
    "                epochs=10,\n",
    "                batch_size=128,\n",
    "                shuffle=True,\n",
    "                validation_data=(x_test, x_test),\n",
    "                callbacks=[TensorBoard(log_dir='/tmp/autoencoder')])"
   ]
  },
  {
   "cell_type": "code",
   "execution_count": 237,
   "metadata": {},
   "outputs": [],
   "source": [
    "decoded_imgs = autoencoder.predict(x_test)"
   ]
  },
  {
   "cell_type": "code",
   "execution_count": 242,
   "metadata": {},
   "outputs": [
    {
     "data": {
      "image/png": "[encoded data removed]",
      "text/plain": [
       "<Figure size 720x288 with 10 Axes>"
      ]
     },
     "metadata": {},
     "output_type": "display_data"
    }
   ],
   "source": [
    "n = 5\n",
    "\n",
    "plt.figure(figsize=(10, 4))\n",
    "\n",
    "for i in range(n):\n",
    "\n",
    "    ax = plt.subplot(2, n, i+1)\n",
    "    plt.imshow(x_test[i].reshape(28, 28))\n",
    "    plt.gray()\n",
    "    ax.get_xaxis().set_visible(False)\n",
    "    ax.get_yaxis().set_visible(False)\n",
    "\n",
    "    ax = plt.subplot(2, n, i +1+ n)\n",
    "    plt.imshow(decoded_imgs[i].reshape(28, 28))\n",
    "    plt.gray()\n",
    "    ax.get_xaxis().set_visible(False)\n",
    "    ax.get_yaxis().set_visible(False)\n",
    "plt.show()"
   ]
  },
  {
   "cell_type": "code",
   "execution_count": null,
   "metadata": {},
   "outputs": [],
   "source": []
  },
  {
   "cell_type": "markdown",
   "metadata": {},
   "source": [
    "# denoising autoencoder"
   ]
  },
  {
   "cell_type": "code",
   "execution_count": 243,
   "metadata": {},
   "outputs": [],
   "source": [
    "from keras.datasets import mnist\n",
    "import numpy as np\n",
    "\n",
    "(x_train, _), (x_test, _) = mnist.load_data()\n",
    "\n",
    "x_train = x_train.astype('float32') / 255.\n",
    "x_test = x_test.astype('float32') / 255.\n",
    "x_train = np.reshape(x_train, (len(x_train), 28, 28, 1))  # adapt this if using `channels_first` image data format\n",
    "x_test = np.reshape(x_test, (len(x_test), 28, 28, 1))  # adapt this if using `channels_first` image data format\n",
    "\n",
    "noise_factor = 0.5\n",
    "x_train_noisy = x_train + noise_factor * np.random.normal(loc=0.0, scale=1.0, size=x_train.shape) \n",
    "x_test_noisy = x_test + noise_factor * np.random.normal(loc=0.0, scale=1.0, size=x_test.shape) \n",
    "\n",
    "x_train_noisy = np.clip(x_train_noisy, 0., 1.)\n",
    "x_test_noisy = np.clip(x_test_noisy, 0., 1.)"
   ]
  },
  {
   "cell_type": "code",
   "execution_count": null,
   "metadata": {},
   "outputs": [],
   "source": []
  },
  {
   "cell_type": "code",
   "execution_count": 246,
   "metadata": {},
   "outputs": [
    {
     "data": {
      "image/png": "[encoded data removed]",
      "text/plain": [
       "<Figure size 1440x144 with 5 Axes>"
      ]
     },
     "metadata": {},
     "output_type": "display_data"
    }
   ],
   "source": [
    "n = 5\n",
    "plt.figure(figsize=(20, 2))\n",
    "\n",
    "for i in range(n):\n",
    "    ax = plt.subplot(1, n, i+1)\n",
    "    plt.imshow(x_test_noisy[i].reshape(28, 28))\n",
    "    plt.gray()\n",
    "    ax.get_xaxis().set_visible(False)\n",
    "    ax.get_yaxis().set_visible(False)\n",
    "plt.show()"
   ]
  },
  {
   "cell_type": "code",
   "execution_count": null,
   "metadata": {},
   "outputs": [],
   "source": []
  },
  {
   "cell_type": "code",
   "execution_count": 247,
   "metadata": {},
   "outputs": [],
   "source": [
    "input_img = Input(shape=(28, 28, 1))  # adapt this if using `channels_first` image data format\n",
    "\n",
    "x = Conv2D(32, (3, 3), activation='relu', padding='same')(input_img)\n",
    "x = MaxPooling2D((2, 2), padding='same')(x)\n",
    "x = Conv2D(32, (3, 3), activation='relu', padding='same')(x)\n",
    "encoded = MaxPooling2D((2, 2), padding='same')(x)\n",
    "\n",
    "x = Conv2D(32, (3, 3), activation='relu', padding='same')(encoded)\n",
    "x = UpSampling2D((2, 2))(x)\n",
    "x = Conv2D(32, (3, 3), activation='relu', padding='same')(x)\n",
    "x = UpSampling2D((2, 2))(x)\n",
    "decoded = Conv2D(1, (3, 3), activation='sigmoid', padding='same')(x)\n",
    "\n",
    "autoencoder = Model(input_img, decoded)\n",
    "autoencoder.compile(optimizer='adadelta', loss='binary_crossentropy')"
   ]
  },
  {
   "cell_type": "code",
   "execution_count": 249,
   "metadata": {},
   "outputs": [
    {
     "name": "stdout",
     "output_type": "stream",
     "text": [
      "_________________________________________________________________\n",
      "Layer (type)                 Output Shape              Param #   \n",
      "=================================================================\n",
      "input_6 (InputLayer)         (None, 28, 28, 1)         0         \n",
      "_________________________________________________________________\n",
      "conv2d_8 (Conv2D)            (None, 28, 28, 32)        320       \n",
      "_________________________________________________________________\n",
      "max_pooling2d_4 (MaxPooling2 (None, 14, 14, 32)        0         \n",
      "_________________________________________________________________\n",
      "conv2d_9 (Conv2D)            (None, 14, 14, 32)        9248      \n",
      "_________________________________________________________________\n",
      "max_pooling2d_5 (MaxPooling2 (None, 7, 7, 32)          0         \n",
      "_________________________________________________________________\n",
      "conv2d_10 (Conv2D)           (None, 7, 7, 32)          9248      \n",
      "_________________________________________________________________\n",
      "up_sampling2d_4 (UpSampling2 (None, 14, 14, 32)        0         \n",
      "_________________________________________________________________\n",
      "conv2d_11 (Conv2D)           (None, 14, 14, 32)        9248      \n",
      "_________________________________________________________________\n",
      "up_sampling2d_5 (UpSampling2 (None, 28, 28, 32)        0         \n",
      "_________________________________________________________________\n",
      "conv2d_12 (Conv2D)           (None, 28, 28, 1)         289       \n",
      "=================================================================\n",
      "Total params: 28,353\n",
      "Trainable params: 28,353\n",
      "Non-trainable params: 0\n",
      "_________________________________________________________________\n"
     ]
    }
   ],
   "source": [
    "autoencoder.summary()"
   ]
  },
  {
   "cell_type": "markdown",
   "metadata": {},
   "source": [
    "autoencoder.fit(x_train_noisy, x_train,\n",
    "                epochs=100,\n",
    "                batch_size=128,\n",
    "                shuffle=True,\n",
    "                validation_data=(x_test_noisy, x_test),\n",
    "                callbacks=[TensorBoard(log_dir='/tmp/tb', \n",
    "                                       histogram_freq=0, \n",
    "                                       write_graph=False)])"
   ]
  },
  {
   "cell_type": "code",
   "execution_count": 254,
   "metadata": {},
   "outputs": [
    {
     "name": "stdout",
     "output_type": "stream",
     "text": [
      "Train on 60000 samples, validate on 10000 samples\n",
      "Epoch 1/100\n",
      "60000/60000 [==============================] - 121s 2ms/step - loss: 0.0959 - val_loss: 0.0962\n",
      "Epoch 2/100\n",
      "60000/60000 [==============================] - 133s 2ms/step - loss: 0.0959 - val_loss: 0.0953\n",
      "Epoch 3/100\n",
      "60000/60000 [==============================] - 129s 2ms/step - loss: 0.0958 - val_loss: 0.0951\n",
      "Epoch 4/100\n",
      "60000/60000 [==============================] - 131s 2ms/step - loss: 0.0957 - val_loss: 0.0950\n",
      "Epoch 5/100\n",
      "60000/60000 [==============================] - 129s 2ms/step - loss: 0.0957 - val_loss: 0.0953\n",
      "Epoch 6/100\n",
      "60000/60000 [==============================] - 139s 2ms/step - loss: 0.0957 - val_loss: 0.0954\n",
      "Epoch 00006: early stopping\n"
     ]
    },
    {
     "data": {
      "text/plain": [
       "<keras.callbacks.History at 0x250af605b08>"
      ]
     },
     "execution_count": 254,
     "metadata": {},
     "output_type": "execute_result"
    }
   ],
   "source": [
    "autoencoder.fit(x_train_noisy, x_train,\n",
    "                epochs=100,\n",
    "                batch_size=128,\n",
    "                shuffle=True,\n",
    "                validation_data=(x_test_noisy, x_test),\n",
    "                callbacks=[es_cb])"
   ]
  },
  {
   "cell_type": "code",
   "execution_count": null,
   "metadata": {},
   "outputs": [],
   "source": []
  },
  {
   "cell_type": "code",
   "execution_count": 252,
   "metadata": {},
   "outputs": [
    {
     "data": {
      "image/png": "[encoded data removed]",
      "text/plain": [
       "<Figure size 1440x288 with 20 Axes>"
      ]
     },
     "metadata": {},
     "output_type": "display_data"
    }
   ],
   "source": [
    "decoded_imgs = autoencoder.predict(x_test)\n",
    "\n",
    "n = 10\n",
    "plt.figure(figsize=(20, 4))\n",
    "for i in range(n):\n",
    "    # display original\n",
    "    ax = plt.subplot(2, n, i+1)\n",
    "    plt.imshow(x_test_noisy[i].reshape(28, 28))\n",
    "    plt.gray()\n",
    "    ax.get_xaxis().set_visible(False)\n",
    "    ax.get_yaxis().set_visible(False)\n",
    "\n",
    "    # display reconstruction\n",
    "    ax = plt.subplot(2, n, i+1 + n)\n",
    "    plt.imshow(decoded_imgs[i].reshape(28, 28))\n",
    "    plt.gray()\n",
    "    ax.get_xaxis().set_visible(False)\n",
    "    ax.get_yaxis().set_visible(False)\n",
    "plt.show()"
   ]
  },
  {
   "cell_type": "code",
   "execution_count": null,
   "metadata": {},
   "outputs": [],
   "source": []
  },
  {
   "cell_type": "code",
   "execution_count": null,
   "metadata": {},
   "outputs": [],
   "source": []
  },
  {
   "cell_type": "code",
   "execution_count": null,
   "metadata": {},
   "outputs": [],
   "source": []
  }
 ],
 "metadata": {
  "kernelspec": {
   "display_name": "Environment (conda_gan)",
   "language": "python",
   "name": "conda_gan"
  },
  "language_info": {
   "codemirror_mode": {
    "name": "ipython",
    "version": 3
   },
   "file_extension": ".py",
   "mimetype": "text/x-python",
   "name": "python",
   "nbconvert_exporter": "python",
   "pygments_lexer": "ipython3",
   "version": "3.7.9"
  }
 },
 "nbformat": 4,
 "nbformat_minor": 4
}
